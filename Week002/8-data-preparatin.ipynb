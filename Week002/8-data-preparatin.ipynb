{
 "cells": [
  {
   "attachments": {},
   "cell_type": "markdown",
   "metadata": {},
   "source": [
    "ASSINGMENT:-\n",
    "Use the techniques of today's lesson to make recommendations about the form so it csptures ACCURATE and CONSISTENT information."
   ]
  },
  {
   "attachments": {},
   "cell_type": "markdown",
   "metadata": {},
   "source": [
    "Here is my recommendations:\n",
    "For you to have an accurate and consistent visualization, you need to redesign your form and give a format on how you want to\n",
    "collect the data.\n",
    "You also need to remove or replace each row that contains a null value i.e NaN. "
   ]
  }
 ],
 "metadata": {
  "kernelspec": {
   "display_name": "base",
   "language": "python",
   "name": "python3"
  },
  "language_info": {
   "codemirror_mode": {
    "name": "ipython",
    "version": 3
   },
   "file_extension": ".py",
   "mimetype": "text/x-python",
   "name": "python",
   "nbconvert_exporter": "python",
   "pygments_lexer": "ipython3",
   "version": "3.9.13"
  },
  "orig_nbformat": 4
 },
 "nbformat": 4,
 "nbformat_minor": 2
}
