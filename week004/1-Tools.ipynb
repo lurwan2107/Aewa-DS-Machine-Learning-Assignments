{
 "cells": [
  {
   "attachments": {},
   "cell_type": "markdown",
   "metadata": {},
   "source": [
    "1. Firstly i will import the required libraries for regression model such as (sci-kit learn, numpy, matplotlib etc), loads both the linnerud datasets, and the prepare the data by cleaning and validating it, so that i will accurate prediction "
   ]
  },
  {
   "attachments": {},
   "cell_type": "markdown",
   "metadata": {},
   "source": [
    "2. Secondly i will select the part of the dataset that will be plotted by arranging it into numpy array using 'newaxis()' funcyion"
   ]
  },
  {
   "attachments": {},
   "cell_type": "markdown",
   "metadata": {},
   "source": [
    "3. Then i will slit the data for training into test and train set using sci-kit learn method 'tarin_test_split()'"
   ]
  },
  {
   "attachments": {},
   "cell_type": "markdown",
   "metadata": {},
   "source": [
    "4. I will then train my model and make prediction using test data. "
   ]
  },
  {
   "attachments": {},
   "cell_type": "markdown",
   "metadata": {},
   "source": [
    "5. Lastly i will display my data by creating scatterplot and use the prediction to draw a line."
   ]
  }
 ],
 "metadata": {
  "language_info": {
   "name": "python"
  },
  "orig_nbformat": 4
 },
 "nbformat": 4,
 "nbformat_minor": 2
}
