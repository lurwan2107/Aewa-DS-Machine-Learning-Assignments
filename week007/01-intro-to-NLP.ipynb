{
 "cells": [
  {
   "attachments": {},
   "cell_type": "markdown",
   "metadata": {},
   "source": [
    "I searched for different bots, trying to see if i can confused them. \n",
    "The Zeneth Bank ziva, and Leo of UBA were all well structured, however, i found out that you can confused them when you asked questions like 'How old are you?', they will delay a bit trying to process what type of response is suitable for the question, later on they will give you answer different with your question. From then you will realize you're not chatting with human beign.  "
   ]
  }
 ],
 "metadata": {
  "kernelspec": {
   "display_name": "base",
   "language": "python",
   "name": "python3"
  },
  "language_info": {
   "name": "python",
   "version": "3.9.13"
  },
  "orig_nbformat": 4
 },
 "nbformat": 4,
 "nbformat_minor": 2
}
