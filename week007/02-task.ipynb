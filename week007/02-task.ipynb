{
 "cells": [
  {
   "cell_type": "code",
   "execution_count": null,
   "metadata": {},
   "outputs": [],
   "source": [
    "import random\n",
    "from textblob import TextBlob\n",
    "from textblob.np_extractors import ConllExtractor\n",
    "extractor = ConllExtractor()\n",
    "\n",
    "#Transforming the bot by using 'WHY' and 'HOW'\n",
    "\n",
    "def main():   \n",
    "    print(\"Hello, I am Marvin, the friendly robot.\")\n",
    "    print(\"You can end this conversation at any time by typing 'bye'\")    \n",
    "    print(\"After typing each answer, press 'enter'\")\n",
    "    print(\"How are you today?\")\n",
    "\n",
    "    while True:\n",
    "        # wait for the user to enter some text\n",
    "        user_input = input(\"> \")\n",
    "        user_input = user_input.split()\n",
    "\n",
    "        if str(user_input).lower() == \"bye\":            \n",
    "            \n",
    "            break\n",
    "        else:\n",
    "           \n",
    "            user_input_blob = TextBlob(str(user_input), np_extractor=extractor)                        \n",
    "            np = user_input_blob.noun_phrases                                    \n",
    "            response = \"\"\n",
    "            if user_input_blob.polarity <= -0.5:\n",
    "                response = \"Oh dear, that sounds bad. \"\n",
    "                print(response + 'How long have you being ' + str(user_input[1]) + '?')\n",
    "            elif user_input_blob.polarity <= 0:\n",
    "                response = \"Hmm, that's not great. \"\n",
    "                print(response + 'Why are you being ' + str(user_input[1]) + '?')\n",
    "            elif user_input_blob.polarity <= 0.5:\n",
    "                response = \"Well, that sounds positive. \"\n",
    "                print(response + 'How often are you ' + str(user_input[1]) + '?')\n",
    "            elif user_input_blob.polarity <= 1:\n",
    "                response = \"Wow, that sounds great. \"\n",
    "                print(response + 'Why are you ' + str(user_input[1]) + '?')\n",
    "\n",
    "            \"\"\"if len(np) != 0:\n",
    "               \n",
    "                response = response + \"Why are you \" + np[0].pluralize() + \"?\"\n",
    "            else:\n",
    "                response = response + \"How can i be of help?\"\n",
    "            print(response)\"\"\"\n",
    "    \n",
    "    print(\"It was nice talking to you, goodbye!\")\n",
    "\n",
    "main()"
   ]
  }
 ],
 "metadata": {
  "kernelspec": {
   "display_name": "base",
   "language": "python",
   "name": "python3"
  },
  "language_info": {
   "codemirror_mode": {
    "name": "ipython",
    "version": 3
   },
   "file_extension": ".py",
   "mimetype": "text/x-python",
   "name": "python",
   "nbconvert_exporter": "python",
   "pygments_lexer": "ipython3",
   "version": "3.9.13"
  },
  "orig_nbformat": 4
 },
 "nbformat": 4,
 "nbformat_minor": 2
}
