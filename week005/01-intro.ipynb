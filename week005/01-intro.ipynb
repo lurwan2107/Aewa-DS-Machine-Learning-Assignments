{
 "cells": [
  {
   "attachments": {},
   "cell_type": "markdown",
   "metadata": {},
   "source": [
    "In my scavenging i found the classification methods we can use to match the data in this curriculum.\n",
    "Since the questions we will be asking for the datasets is \"multiclass question\", so the classification algorithms that will match the datasets are SVC(support vector classificatin) and also LinearSVC, they are capable of performing binary and multi-class classification on dataset. And th technique is SVM(support vector machine) "
   ]
  }
 ],
 "metadata": {
  "language_info": {
   "name": "python"
  },
  "orig_nbformat": 4
 },
 "nbformat": 4,
 "nbformat_minor": 2
}
