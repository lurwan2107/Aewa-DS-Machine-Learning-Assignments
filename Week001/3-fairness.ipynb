{
 "cells": [
  {
   "attachments": {},
   "cell_type": "markdown",
   "metadata": {},
   "source": [
    "Today i learnt what is meant by fairness in machine learning, the fairness related harms such as allocation, quality of service,\n",
    "denigration, steriotyping, under represantation and over represantation because of unfairness that couses negative impact for a group of people\n",
    "define by their age, gender, race or disability status. I also learnt how to detect unfairness in a given dataset to avoid  any\n",
    "form of bias. Lastly i learnt how to build in fairness by understanding the your models and how to make an assesment to identify harm,\n",
    "and benefits, identify the affected groups and define fairness metrics."
   ]
  }
 ],
 "metadata": {
  "kernelspec": {
   "display_name": "Python 3",
   "language": "python",
   "name": "python3"
  },
  "language_info": {
   "name": "python",
   "version": "3.9.13"
  },
  "orig_nbformat": 4
 },
 "nbformat": 4,
 "nbformat_minor": 2
}
