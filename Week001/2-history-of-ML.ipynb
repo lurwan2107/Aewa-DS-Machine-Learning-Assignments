{
 "cells": [
  {
   "attachments": {},
   "cell_type": "markdown",
   "metadata": {},
   "source": [
    "Today i learnt the history of machine learning and Artificial intelligence and got know the years and people behind the evlution\n",
    "of ML and AI. I also learnt how the term \"artificial intelligence\" was coined. Some of the prototypes of intellingent machine such as \"Shakey the Robot\" that decides how to performs intelligent task, and \"Eliza\" a chatbots that communicate with people and serve \n",
    "as a therapist."
   ]
  }
 ],
 "metadata": {
  "kernelspec": {
   "display_name": "Python 3",
   "language": "python",
   "name": "python3"
  },
  "language_info": {
   "name": "python",
   "version": "3.9.13"
  },
  "orig_nbformat": 4
 },
 "nbformat": 4,
 "nbformat_minor": 2
}
