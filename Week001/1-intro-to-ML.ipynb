{
 "cells": [
  {
   "attachments": {},
   "cell_type": "markdown",
   "metadata": {},
   "source": [
    "Today is my first day into the world of machine learning ML. In this very day i learnt the differences between AI, ML and DL\n",
    "from the video of \"Francheska\" and what is machine learning, applications of ML and why I should study machine Learning. Similarly\n",
    "i was introduced to things i will cover and the things i will no cover in this course."
   ]
  }
 ],
 "metadata": {
  "kernelspec": {
   "display_name": "Python 3",
   "language": "python",
   "name": "python3"
  },
  "language_info": {
   "name": "python",
   "version": "3.9.13"
  },
  "orig_nbformat": 4
 },
 "nbformat": 4,
 "nbformat_minor": 2
}
